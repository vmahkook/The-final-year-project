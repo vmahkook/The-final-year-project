{
 "cells": [
  {
   "cell_type": "markdown",
   "id": "e9387c2a",
   "metadata": {},
   "source": [
    "## REPORT"
   ]
  },
  {
   "cell_type": "code",
   "execution_count": 3,
   "id": "bc317dc5-9786-4f6d-8a87-1da8b2f836d0",
   "metadata": {},
   "outputs": [
    {
     "data": {
      "application/vnd.jupyter.widget-view+json": {
       "model_id": "0853330d2ab4464daeeb51f514c9277b",
       "version_major": 2,
       "version_minor": 0
      },
      "text/plain": [
       "Summarize dataset:   0%|          | 0/5 [00:00<?, ?it/s]"
      ]
     },
     "metadata": {},
     "output_type": "display_data"
    },
    {
     "data": {
      "application/vnd.jupyter.widget-view+json": {
       "model_id": "fca5459957e045b6ab6126b2c2aee877",
       "version_major": 2,
       "version_minor": 0
      },
      "text/plain": [
       "Generate report structure:   0%|          | 0/1 [00:00<?, ?it/s]"
      ]
     },
     "metadata": {},
     "output_type": "display_data"
    },
    {
     "data": {
      "application/vnd.jupyter.widget-view+json": {
       "model_id": "4e39f93797b3451782bf3988ccf4ee39",
       "version_major": 2,
       "version_minor": 0
      },
      "text/plain": [
       "Render HTML:   0%|          | 0/1 [00:00<?, ?it/s]"
      ]
     },
     "metadata": {},
     "output_type": "display_data"
    },
    {
     "data": {
      "application/vnd.jupyter.widget-view+json": {
       "model_id": "ceae5b44d5f044a29472c089dfc46f43",
       "version_major": 2,
       "version_minor": 0
      },
      "text/plain": [
       "Export report to file:   0%|          | 0/1 [00:00<?, ?it/s]"
      ]
     },
     "metadata": {},
     "output_type": "display_data"
    },
    {
     "name": "stdout",
     "output_type": "stream",
     "text": [
      "Metrics report saved as Metrics_report.html\n"
     ]
    }
   ],
   "source": [
    "import warnings\n",
    "warnings.filterwarnings('ignore')\n",
    "import pandas as pd\n",
    "from ydata_profiling import ProfileReport\n",
    "from sklearn.model_selection import train_test_split\n",
    "from sklearn.tree import ExtraTreeClassifier\n",
    "from sklearn.metrics import confusion_matrix, classification_report, accuracy_score\n",
    "from imblearn.over_sampling import SMOTE\n",
    "import seaborn as sns\n",
    "import matplotlib.pyplot as plt\n",
    "from io import BytesIO\n",
    "import base64\n",
    "from IPython.core.display import HTML\n",
    "\n",
    "# Sample dataframe\n",
    "df=pd.read_csv('CHURN.csv')\n",
    "\n",
    "del df['RowNumber']\n",
    "del df['CustomerId']\n",
    "del df['Surname']\n",
    "del df['Geography']\n",
    "df.head()\n",
    "\n",
    "df.columns\n",
    "\n",
    "df = df.dropna()\n",
    "\n",
    "from sklearn.preprocessing import LabelEncoder\n",
    "le = LabelEncoder()\n",
    "\n",
    "var = ['Gender']\n",
    "  \n",
    "for i in var:\n",
    "    df[i] = le.fit_transform(df[i]).astype(int)\n",
    "\n",
    "# Generate basic data profiling report\n",
    "prof = ProfileReport(df)\n",
    "prof.to_file(output_file='Basic_report.html')\n",
    "\n",
    "# Split the data\n",
    "X = df.drop(\"Exited\", axis=1)\n",
    "y = df[\"Exited\"]\n",
    "# Apply SMOTE to handle class imbalance\n",
    "smote = SMOTE(random_state=42)\n",
    "X_resampled, y_resampled = smote.fit_resample(X, y)\n",
    "\n",
    "# Split the resampled data\n",
    "X_train, X_test, y_train, y_test = train_test_split(X_resampled, y_resampled, test_size=0.2, random_state=42)\n",
    "\n",
    "# Train Random Forest Classifier\n",
    "clf = ExtraTreeClassifier()\n",
    "clf.fit(X_train, y_train)\n",
    "y_pred = clf.predict(X_test)\n",
    "\n",
    "# Calculate accuracy\n",
    "accuracy = accuracy_score(y_test, y_pred)\n",
    "\n",
    "# Generate Confusion Matrix\n",
    "cm = confusion_matrix(y_test, y_pred)\n",
    "fig, ax = plt.subplots()\n",
    "sns.heatmap(cm, annot=True, fmt='d', cmap='Blues', ax=ax)\n",
    "ax.set_xlabel('Predicted')\n",
    "ax.set_ylabel('Actual')\n",
    "ax.set_title('Confusion Matrix')\n",
    "\n",
    "# Save confusion matrix plot to HTML-compatible format\n",
    "buf = BytesIO()\n",
    "plt.savefig(buf, format='png')\n",
    "plt.close(fig)\n",
    "buf.seek(0)\n",
    "img_str = base64.b64encode(buf.read()).decode('utf-8')\n",
    "img_tag = f'<img src=\"data:image/png;base64,{img_str}\" />'\n",
    "\n",
    "# Generate Classification Report\n",
    "class_report = classification_report(y_test, y_pred, output_dict=True)\n",
    "class_report_df = pd.DataFrame(class_report).transpose()\n",
    "\n",
    "# Convert classification report dataframe to HTML\n",
    "class_report_html = class_report_df.to_html()\n",
    "\n",
    "# Create a separate report HTML for metrics\n",
    "metrics_html = f\"\"\"\n",
    "<!DOCTYPE html>\n",
    "<html>\n",
    "<head>\n",
    "    <title>Metrics Report</title>\n",
    "</head>\n",
    "<body>\n",
    "    <h1>Metrics Report</h1>\n",
    "    <h2>Confusion Matrix</h2>\n",
    "    {img_tag}\n",
    "    <h2>Classification Report</h2>\n",
    "    {class_report_html}\n",
    "    <h2>Accuracy</h2>\n",
    "    <p>{accuracy}</p>\n",
    "</body>\n",
    "</html>\n",
    "\"\"\"\n",
    "\n",
    "# Save the metrics report to a new HTML file\n",
    "with open('Metrics_report.html', 'w') as file:\n",
    "    file.write(metrics_html)\n",
    "\n",
    "print(\"Metrics report saved as Metrics_report.html\")"
   ]
  },
  {
   "cell_type": "code",
   "execution_count": null,
   "id": "41f0c31d-ec32-41c7-b57f-f3e49c2e8376",
   "metadata": {},
   "outputs": [],
   "source": []
  }
 ],
 "metadata": {
  "kernelspec": {
   "display_name": "Python 3 (ipykernel)",
   "language": "python",
   "name": "python3"
  },
  "language_info": {
   "codemirror_mode": {
    "name": "ipython",
    "version": 3
   },
   "file_extension": ".py",
   "mimetype": "text/x-python",
   "name": "python",
   "nbconvert_exporter": "python",
   "pygments_lexer": "ipython3",
   "version": "3.9.18"
  }
 },
 "nbformat": 4,
 "nbformat_minor": 5
}
